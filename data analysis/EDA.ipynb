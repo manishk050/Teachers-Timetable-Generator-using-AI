{
 "cells": [
  {
   "cell_type": "code",
   "execution_count": null,
   "id": "d9a2b040",
   "metadata": {},
   "outputs": [],
   "source": [
    "import pandas as pd\n",
    "import numpy as np\n",
    "import matplotlib.pyplot as plt\n",
    "import seaborn as sns"
   ]
  },
  {
   "cell_type": "code",
   "execution_count": 2,
   "id": "e5c7e04c",
   "metadata": {},
   "outputs": [],
   "source": [
    "# Load the datasets\n",
    "schedule_df = pd.read_csv('schedule.csv')\n",
    "leaves_df = pd.read_csv('leaves.csv')"
   ]
  },
  {
   "cell_type": "code",
   "execution_count": 3,
   "id": "2e162ac5",
   "metadata": {},
   "outputs": [],
   "source": [
    "# Convert 'date' in leaves_df to datetime and extract day of week\n",
    "leaves_df['date'] = pd.to_datetime(leaves_df['date'])\n",
    "leaves_df['day_of_week'] = leaves_df['date'].dt.day_name()"
   ]
  },
  {
   "cell_type": "code",
   "execution_count": null,
   "id": "7dff7e4d",
   "metadata": {},
   "outputs": [
    {
     "name": "stdout",
     "output_type": "stream",
     "text": [
      "Average busy sessions per teacher: 15.40\n"
     ]
    }
   ],
   "source": [
    "busy_sessions_per_teacher = schedule_df[schedule_df['status'] == 1].groupby('teacher_id').size()\n",
    "total_sessions_per_teacher = 25  # 5 days * 5 sessions\n",
    "avg_busy_sessions = busy_sessions_per_teacher.sum()/15\n",
    "print(f\"Average busy sessions per teacher: {avg_busy_sessions:.2f}\")"
   ]
  },
  {
   "cell_type": "code",
   "execution_count": null,
   "id": "a6c91753",
   "metadata": {},
   "outputs": [
    {
     "name": "stdout",
     "output_type": "stream",
     "text": [
      "Average percentage of busy sessions per teacher: 61.60%\n"
     ]
    }
   ],
   "source": [
    "busy_percentage = (busy_sessions_per_teacher / total_sessions_per_teacher) * 100\n",
    "busy_percentage.mean()\n",
    "print(f\"Average percentage of busy sessions per teacher: {busy_percentage.mean():.2f}%\")"
   ]
  },
  {
   "cell_type": "code",
   "execution_count": null,
   "id": "eeede553",
   "metadata": {},
   "outputs": [
    {
     "name": "stdout",
     "output_type": "stream",
     "text": [
      "The least number of sessions a teacher has taken in a day is: 2\n"
     ]
    }
   ],
   "source": [
    "daily_busy_sessions = schedule_df[schedule_df['status'] == 1].groupby(['teacher_id', 'day'])['status'].sum()\n",
    "\n",
    "least_daily_busy_sessions = daily_busy_sessions.min()\n",
    "\n",
    "print(f\"The least number of sessions a teacher has taken in a day is: {least_daily_busy_sessions}\")"
   ]
  },
  {
   "cell_type": "code",
   "execution_count": 23,
   "id": "997e8b95",
   "metadata": {},
   "outputs": [
    {
     "name": "stdout",
     "output_type": "stream",
     "text": [
      "\n",
      "Leave Requests by Day of Week:\n",
      "day_of_week\n",
      "Monday       24\n",
      "Wednesday    24\n",
      "Friday       19\n",
      "Thursday     19\n",
      "Tuesday      14\n",
      "Name: count, dtype: int64\n",
      "\n",
      "Most common leave day: Monday with 24 leaves\n"
     ]
    }
   ],
   "source": [
    "leave_by_day = leaves_df['day_of_week'].value_counts()\n",
    "most_common_leave_day = leave_by_day.idxmax()\n",
    "most_common_leave_count = leave_by_day.max()\n",
    "print(\"\\nLeave Requests by Day of Week:\")\n",
    "print(leave_by_day)\n",
    "print(f\"\\nMost common leave day: {most_common_leave_day} with {most_common_leave_count} leaves\")"
   ]
  },
  {
   "cell_type": "code",
   "execution_count": 26,
   "id": "ba187381",
   "metadata": {},
   "outputs": [],
   "source": [
    "heatmap_data = schedule_df.pivot_table(index='session', columns='day', values='status', aggfunc='mean')\n",
    "day_order = ['Monday', 'Tuesday', 'Wednesday', 'Thursday', 'Friday']\n",
    "heatmap_data = heatmap_data[day_order]  # Ensure correct day order\n",
    "\n",
    "plt.figure(figsize=(10, 6))\n",
    "sns.heatmap(heatmap_data, cmap='RdYlGn_r', annot=True, fmt='.2f', vmin=0, vmax=1)\n",
    "plt.title('Heatmap of Teacher Availability (0 = Free, 1 = Busy)')\n",
    "plt.xlabel('Day of Week')\n",
    "plt.ylabel('Session')\n",
    "plt.tight_layout()\n",
    "plt.savefig('teacher_availability_heatmap.png')\n",
    "plt.close()"
   ]
  },
  {
   "cell_type": "code",
   "execution_count": null,
   "id": "e515670a",
   "metadata": {},
   "outputs": [],
   "source": [
    "plt.figure(figsize=(10, 6))\n",
    "leave_by_day.plot(kind='bar', color='skyblue')\n",
    "plt.title('Leave Requests by Day of Week')\n",
    "plt.xlabel('Day of Week')\n",
    "plt.ylabel('Number of Leave Requests')\n",
    "plt.xticks(rotation=45)\n",
    "plt.tight_layout()\n",
    "plt.savefig('leave_requests_bar.png')\n",
    "plt.close()"
   ]
  },
  {
   "cell_type": "code",
   "execution_count": null,
   "id": "6d2d3bf6",
   "metadata": {},
   "outputs": [],
   "source": []
  }
 ],
 "metadata": {
  "kernelspec": {
   "display_name": "Python 3",
   "language": "python",
   "name": "python3"
  },
  "language_info": {
   "codemirror_mode": {
    "name": "ipython",
    "version": 3
   },
   "file_extension": ".py",
   "mimetype": "text/x-python",
   "name": "python",
   "nbconvert_exporter": "python",
   "pygments_lexer": "ipython3",
   "version": "3.8.10"
  }
 },
 "nbformat": 4,
 "nbformat_minor": 5
}
